{
 "cells": [
  {
   "cell_type": "code",
   "execution_count": null,
   "id": "ba978eca",
   "metadata": {},
   "outputs": [],
   "source": [
    "class Solution():\n",
    "    def sorter(self, arr):\n",
    "        print(sorted(arr))\n",
    "\n",
    "if __name__ == '__main__':\n",
    "    arr=[int(x) for x in input().strip().split()]\n",
    "    ob=Solution()\n",
    "    ob.sorter(arr)"
   ]
  },
  {
   "cell_type": "code",
   "execution_count": null,
   "id": "61e929d3",
   "metadata": {},
   "outputs": [],
   "source": [
    "class Solution():\n",
    "    def sorterfinder(self, arr, k):\n",
    "        arrsorted = sorted(arr)\n",
    "        print(f\"{arrsorted} {arrsorted.index(k)}\")\n",
    "        \n",
    "\n",
    "\n",
    "if __name__ == '__main__':\n",
    "    arr=[int(x) for x in input().strip().split()]\n",
    "    k=int(input())\n",
    "    ob=Solution()\n",
    "    ob.sorterfinder(arr, k)"
   ]
  },
  {
   "cell_type": "code",
   "execution_count": null,
   "id": "8835bcbb",
   "metadata": {},
   "outputs": [],
   "source": []
  }
 ],
 "metadata": {
  "kernelspec": {
   "display_name": "Python 3 (ipykernel)",
   "language": "python",
   "name": "python3"
  },
  "language_info": {
   "codemirror_mode": {
    "name": "ipython",
    "version": 3
   },
   "file_extension": ".py",
   "mimetype": "text/x-python",
   "name": "python",
   "nbconvert_exporter": "python",
   "pygments_lexer": "ipython3",
   "version": "3.11.5"
  }
 },
 "nbformat": 4,
 "nbformat_minor": 5
}
